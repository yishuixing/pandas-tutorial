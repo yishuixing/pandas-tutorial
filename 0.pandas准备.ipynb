{
 "cells": [
  {
   "cell_type": "markdown",
   "metadata": {},
   "source": [
    "# 0. pandas 测试\n",
    "'''\n",
    "推荐的依赖关系\n",
    "numexpr: 用于加速某些数值运算。numexpr使用多个内核以及智能分块和缓存来实现大型加速。如果已安装，则必须为2.6.2或更高版本。\n",
    "bottleneck: 加速某些类型的 nan 评估。 bottleneck 使用专门的cython例程来实现大的加速。 如果已安装，则必须为1.2.1或更高版本\n",
    "'''"
   ]
  },
  {
   "cell_type": "code",
   "execution_count": 5,
   "metadata": {},
   "outputs": [
    {
     "name": "stdout",
     "output_type": "stream",
     "text": [
      "running: pytest --skip-slow --skip-network --skip-db d:\\soft\\anaconda3\\envs\\py37\\lib\\site-packages\\pandas\n",
      "================================================================ test session starts ================================================================\n",
      "platform win32 -- Python 3.7.3, pytest-5.2.2, py-1.8.0, pluggy-0.13.0\n",
      "rootdir: F:\\bd\\code\\pandas-tutorial\n",
      "plugins: hypothesis-4.43.6\n",
      "collected 57529 items / 2 errors / 11 skipped / 57516 selected\n",
      "\n",
      "====================================================================== ERRORS =======================================================================\n",
      "_____________________________________________ ERROR collecting tests/indexes/interval/test_interval.py ______________________________________________\n",
      "d:\\soft\\anaconda3\\envs\\py37\\lib\\site-packages\\_pytest\\python.py:1141: in _idval\n",
      "    generated_id = idfn(val)\n",
      "d:\\soft\\anaconda3\\envs\\py37\\lib\\site-packages\\pandas\\tests\\indexes\\interval\\test_interval.py:691: in <lambda>\n",
      "    ids=lambda x: str(x.dtype),\n",
      "E   AttributeError: 'object' object has no attribute 'dtype'\n",
      "\n",
      "The above exception was the direct cause of the following exception:\n",
      "d:\\soft\\anaconda3\\envs\\py37\\lib\\site-packages\\pluggy\\hooks.py:286: in __call__\n",
      "    return self._hookexec(self, self.get_hookimpls(), kwargs)\n",
      "d:\\soft\\anaconda3\\envs\\py37\\lib\\site-packages\\pluggy\\manager.py:92: in _hookexec\n",
      "    return self._inner_hookexec(hook, methods, kwargs)\n",
      "d:\\soft\\anaconda3\\envs\\py37\\lib\\site-packages\\pluggy\\manager.py:86: in <lambda>\n",
      "    firstresult=hook.spec.opts.get(\"firstresult\") if hook.spec else False,\n",
      "d:\\soft\\anaconda3\\envs\\py37\\lib\\site-packages\\_pytest\\python.py:234: in pytest_pycollect_makeitem\n",
      "    res = list(collector._genfunctions(name, obj))\n",
      "d:\\soft\\anaconda3\\envs\\py37\\lib\\site-packages\\_pytest\\python.py:403: in _genfunctions\n",
      "    self.ihook.pytest_generate_tests.call_extra(methods, dict(metafunc=metafunc))\n",
      "d:\\soft\\anaconda3\\envs\\py37\\lib\\site-packages\\pluggy\\hooks.py:324: in call_extra\n",
      "    return self(**kwargs)\n",
      "d:\\soft\\anaconda3\\envs\\py37\\lib\\site-packages\\pluggy\\hooks.py:286: in __call__\n",
      "    return self._hookexec(self, self.get_hookimpls(), kwargs)\n",
      "d:\\soft\\anaconda3\\envs\\py37\\lib\\site-packages\\pluggy\\manager.py:92: in _hookexec\n",
      "    return self._inner_hookexec(hook, methods, kwargs)\n",
      "d:\\soft\\anaconda3\\envs\\py37\\lib\\site-packages\\pluggy\\manager.py:86: in <lambda>\n",
      "    firstresult=hook.spec.opts.get(\"firstresult\") if hook.spec else False,\n",
      "d:\\soft\\anaconda3\\envs\\py37\\lib\\site-packages\\_pytest\\python.py:129: in pytest_generate_tests\n",
      "    metafunc.parametrize(*marker.args, **marker.kwargs)\n",
      "d:\\soft\\anaconda3\\envs\\py37\\lib\\site-packages\\_pytest\\python.py:975: in parametrize\n",
      "    ids = self._resolve_arg_ids(argnames, ids, parameters, item=self.definition)\n",
      "d:\\soft\\anaconda3\\envs\\py37\\lib\\site-packages\\_pytest\\python.py:1029: in _resolve_arg_ids\n",
      "    ids = idmaker(argnames, parameters, idfn, ids, self.config, item=item)\n",
      "d:\\soft\\anaconda3\\envs\\py37\\lib\\site-packages\\_pytest\\python.py:1185: in idmaker\n",
      "    for valindex, parameterset in enumerate(parametersets)\n",
      "d:\\soft\\anaconda3\\envs\\py37\\lib\\site-packages\\_pytest\\python.py:1185: in <listcomp>\n",
      "    for valindex, parameterset in enumerate(parametersets)\n",
      "d:\\soft\\anaconda3\\envs\\py37\\lib\\site-packages\\_pytest\\python.py:1175: in _idvalset\n",
      "    for val, argname in zip(parameterset.values, argnames)\n",
      "d:\\soft\\anaconda3\\envs\\py37\\lib\\site-packages\\_pytest\\python.py:1175: in <listcomp>\n",
      "    for val, argname in zip(parameterset.values, argnames)\n",
      "d:\\soft\\anaconda3\\envs\\py37\\lib\\site-packages\\_pytest\\python.py:1148: in _idval\n",
      "    raise ValueError(msg) from e\n",
      "E   ValueError: tests/indexes/interval/test_interval.py::TestIntervalIndex::test_maybe_convert_i8_errors: error raised while trying to determine id of parameter 'breaks1' at position 0\n",
      "___________________________________________________ ERROR collecting tests/resample/test_base.py ____________________________________________________\n",
      "In test_resample_interpolate: function uses no argument '_index_factory'\n",
      "================================================================= warnings summary ==================================================================\n",
      "d:\\soft\\anaconda3\\envs\\py37\\lib\\site-packages\\_pytest\\config\\__init__.py:830\n",
      "d:\\soft\\anaconda3\\envs\\py37\\lib\\site-packages\\_pytest\\config\\__init__.py:830\n",
      "  d:\\soft\\anaconda3\\envs\\py37\\lib\\site-packages\\_pytest\\config\\__init__.py:830: PytestAssertRewriteWarning: Module already imported so cannot be rewritten: hypothesis\n",
      "    self._mark_plugins_for_rewrite(hook)\n",
      "\n",
      "-- Docs: https://docs.pytest.org/en/latest/warnings.html\n",
      "!!!!!!!!!!!!!!!!!!!!!!!!!!!!!!!!!!!!!!!!!!!!!!!!!!!!!! Interrupted: 2 errors during collection !!!!!!!!!!!!!!!!!!!!!!!!!!!!!!!!!!!!!!!!!!!!!!!!!!!!!!\n",
      "===================================================== 11 skipped, 2 warnings, 2 error in 44.07s =====================================================\n"
     ]
    },
    {
     "ename": "SystemExit",
     "evalue": "ExitCode.INTERRUPTED",
     "output_type": "error",
     "traceback": [
      "An exception has occurred, use %tb to see the full traceback.\n",
      "\u001b[1;31mSystemExit\u001b[0m\u001b[1;31m:\u001b[0m ExitCode.INTERRUPTED\n"
     ]
    },
    {
     "name": "stderr",
     "output_type": "stream",
     "text": [
      "d:\\soft\\anaconda3\\envs\\py37\\lib\\site-packages\\IPython\\core\\interactiveshell.py:3334: UserWarning: To exit: use 'exit', 'quit', or Ctrl-D.\n",
      "  warn(\"To exit: use 'exit', 'quit', or Ctrl-D.\", stacklevel=1)\n"
     ]
    }
   ],
   "source": [
    "import pandas as pd\n",
    "pd.test()"
   ]
  },
  {
   "cell_type": "code",
   "execution_count": 4,
   "metadata": {},
   "outputs": [
    {
     "ename": "SystemExit",
     "evalue": "ExitCode.INTERRUPTED",
     "output_type": "error",
     "traceback": [
      "\u001b[1;31m---------------------------------------------------------------------------\u001b[0m",
      "\u001b[1;31mSystemExit\u001b[0m                                Traceback (most recent call last)",
      "\u001b[1;32m<ipython-input-3-b21e04c85f19>\u001b[0m in \u001b[0;36m<module>\u001b[1;34m\u001b[0m\n\u001b[0;32m      1\u001b[0m \u001b[1;32mimport\u001b[0m \u001b[0mpandas\u001b[0m \u001b[1;32mas\u001b[0m \u001b[0mpd\u001b[0m\u001b[1;33m\u001b[0m\u001b[1;33m\u001b[0m\u001b[0m\n\u001b[1;32m----> 2\u001b[1;33m \u001b[0mpd\u001b[0m\u001b[1;33m.\u001b[0m\u001b[0mtest\u001b[0m\u001b[1;33m(\u001b[0m\u001b[1;33m)\u001b[0m\u001b[1;33m\u001b[0m\u001b[1;33m\u001b[0m\u001b[0m\n\u001b[0m",
      "\u001b[1;32md:\\soft\\anaconda3\\envs\\py37\\lib\\site-packages\\pandas\\util\\_tester.py\u001b[0m in \u001b[0;36mtest\u001b[1;34m(extra_args)\u001b[0m\n\u001b[0;32m     24\u001b[0m     \u001b[0mcmd\u001b[0m \u001b[1;33m+=\u001b[0m \u001b[1;33m[\u001b[0m\u001b[0mPKG\u001b[0m\u001b[1;33m]\u001b[0m\u001b[1;33m\u001b[0m\u001b[1;33m\u001b[0m\u001b[0m\n\u001b[0;32m     25\u001b[0m     \u001b[0mprint\u001b[0m\u001b[1;33m(\u001b[0m\u001b[1;34m\"running: pytest {}\"\u001b[0m\u001b[1;33m.\u001b[0m\u001b[0mformat\u001b[0m\u001b[1;33m(\u001b[0m\u001b[1;34m\" \"\u001b[0m\u001b[1;33m.\u001b[0m\u001b[0mjoin\u001b[0m\u001b[1;33m(\u001b[0m\u001b[0mcmd\u001b[0m\u001b[1;33m)\u001b[0m\u001b[1;33m)\u001b[0m\u001b[1;33m)\u001b[0m\u001b[1;33m\u001b[0m\u001b[1;33m\u001b[0m\u001b[0m\n\u001b[1;32m---> 26\u001b[1;33m     \u001b[0msys\u001b[0m\u001b[1;33m.\u001b[0m\u001b[0mexit\u001b[0m\u001b[1;33m(\u001b[0m\u001b[0mpytest\u001b[0m\u001b[1;33m.\u001b[0m\u001b[0mmain\u001b[0m\u001b[1;33m(\u001b[0m\u001b[0mcmd\u001b[0m\u001b[1;33m)\u001b[0m\u001b[1;33m)\u001b[0m\u001b[1;33m\u001b[0m\u001b[1;33m\u001b[0m\u001b[0m\n\u001b[0m\u001b[0;32m     27\u001b[0m \u001b[1;33m\u001b[0m\u001b[0m\n\u001b[0;32m     28\u001b[0m \u001b[1;33m\u001b[0m\u001b[0m\n",
      "\u001b[1;31mSystemExit\u001b[0m: ExitCode.INTERRUPTED"
     ]
    }
   ],
   "source": []
  },
  {
   "cell_type": "code",
   "execution_count": null,
   "metadata": {},
   "outputs": [],
   "source": []
  }
 ],
 "metadata": {
  "kernelspec": {
   "display_name": "Python 3",
   "language": "python",
   "name": "python3"
  },
  "language_info": {
   "codemirror_mode": {
    "name": "ipython",
    "version": 3
   },
   "file_extension": ".py",
   "mimetype": "text/x-python",
   "name": "python",
   "nbconvert_exporter": "python",
   "pygments_lexer": "ipython3",
   "version": "3.7.3"
  }
 },
 "nbformat": 4,
 "nbformat_minor": 2
}
